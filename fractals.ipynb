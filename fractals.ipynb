{
 "cells": [
  {
   "cell_type": "code",
   "execution_count": null,
   "metadata": {},
   "outputs": [],
   "source": [
    "#!/usr/bin/env python3\n",
    "\n",
    "import matplotlib.pyplot as plt\n",
    "import numpy as np\n",
    "import os\n",
    "import random\n",
    "from random import randrange\n",
    "\n",
    "\n",
    "try:  \n",
    "    os.mkdir(\"fracs\")  \n",
    "except OSError as error:  \n",
    "    pass\n",
    "\n",
    "def loop():\n",
    "    def get_iter(c:complex, thresh:int = 4, max_steps:int = 25) -> int:\n",
    "        z=c\n",
    "        i=1\n",
    "        while i<max_steps and (z*z.conjugate()).real<thresh:\n",
    "            z=z*z +c\n",
    "            i+=1\n",
    "        return i\n",
    "\n",
    "    def plotter(n, thresh, max_steps=25):\n",
    "        mx = 2.48 / (n-1)\n",
    "        my = 2.26 / (n-1)\n",
    "        mapper = lambda x,y: (mx*x - 2, my*y - 1.13)\n",
    "        img=np.full((n,n), 256)\n",
    "        for x in range(n):\n",
    "            for y in range(n):\n",
    "                it = get_iter(complex(*mapper(x,y)), thresh=thresh, max_steps=max_steps)\n",
    "                img[y][x] = 255 - it\n",
    "        return img\n",
    "\n",
    "    cmaps=['viridis', 'plasma', 'inferno', 'magma', 'cividis', 'Greys', 'Purples', 'Blues', 'Greens', 'Oranges', \\\n",
    "    'Reds', 'YlOrBr', 'YlOrRd', 'OrRd', 'PuRd', 'RdPu', 'BuPu', 'GnBu', 'PuBu', 'YlGnBu', 'PuBuGn', 'BuGn', 'YlGn']\n",
    "\n",
    "    cmap=random.choice(cmaps)\n",
    "\n",
    "    print(\"Random cmap color chosen from list is: \", cmap)\n",
    "    n = randrange(2000)\n",
    "    img = plotter(n, thresh=4, max_steps=randrange(255))\n",
    "    plt.imshow(img, cmap=cmap)\n",
    "    plt.axis(\"off\")\n",
    "    plt.savefig(\"fracs/\" + cmap + str(n) +\".png\") \n",
    "    plt.show()\n",
    "    loop()\n",
    "\n",
    "loop() "
   ]
  }
 ],
 "metadata": {
  "kernelspec": {
   "display_name": "Python 3",
   "language": "python",
   "name": "python3"
  },
  "language_info": {
   "codemirror_mode": {
    "name": "ipython",
    "version": 3
   },
   "file_extension": ".py",
   "mimetype": "text/x-python",
   "name": "python",
   "nbconvert_exporter": "python",
   "pygments_lexer": "ipython3",
   "version": "3.9.0"
  }
 },
 "nbformat": 4,
 "nbformat_minor": 4
}
